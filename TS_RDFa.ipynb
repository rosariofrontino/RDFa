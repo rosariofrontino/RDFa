{
  "nbformat": 4,
  "nbformat_minor": 0,
  "metadata": {
    "colab": {
      "name": "TS_RDFa.ipynb",
      "provenance": [],
      "collapsed_sections": []
    },
    "kernelspec": {
      "name": "python3",
      "display_name": "Python 3"
    },
    "language_info": {
      "name": "python"
    }
  },
  "cells": [
    {
      "cell_type": "code",
      "source": [
        "from IPython.display import clear_output\n",
        "\n",
        "!python -m spacy download it_core_news_sm\n",
        "!pip install bs4\n",
        "!pip install rdflib\n",
        "!pip install SPARQLWrapper\n",
        "\n",
        "clear_output()\n",
        "print(\"##########\")"
      ],
      "metadata": {
        "colab": {
          "base_uri": "https://localhost:8080/"
        },
        "id": "Lqgyw161v-nW",
        "outputId": "45e83649-a988-46fb-ac97-230d2f80a24f"
      },
      "execution_count": 1,
      "outputs": [
        {
          "output_type": "stream",
          "name": "stdout",
          "text": [
            "##########\n"
          ]
        }
      ]
    },
    {
      "cell_type": "code",
      "source": [
        "from google.colab import drive\n",
        "drive.mount('/content/drive')"
      ],
      "metadata": {
        "colab": {
          "base_uri": "https://localhost:8080/"
        },
        "id": "CyNLUNoTFjHd",
        "outputId": "b290e261-a525-4b16-c8da-8c53c153ba28"
      },
      "execution_count": 2,
      "outputs": [
        {
          "output_type": "stream",
          "name": "stdout",
          "text": [
            "Mounted at /content/drive\n"
          ]
        }
      ]
    },
    {
      "cell_type": "code",
      "source": [
        "%cd /content/drive/MyDrive/TSsrc/"
      ],
      "metadata": {
        "colab": {
          "base_uri": "https://localhost:8080/"
        },
        "id": "Vx8vVDrRFkD_",
        "outputId": "5a3ababd-67c7-4681-a081-8cceadb6864f"
      },
      "execution_count": 3,
      "outputs": [
        {
          "output_type": "stream",
          "name": "stdout",
          "text": [
            "/content/drive/MyDrive/TSsrc\n"
          ]
        }
      ]
    },
    {
      "cell_type": "code",
      "source": [
        "import spacy, it_core_news_sm\n",
        "from spacy import displacy\n",
        "from pathlib import Path\n",
        "from SPARQLWrapper import SPARQLWrapper, JSON, N3\n",
        "\n",
        "def cleanUp(word):\n",
        "  newWord = word.replace(\" \",\"_\")\n",
        "  newWord = newWord.replace(\"'\", \"\")\n",
        "  newWord = newWord.replace(\".\", \"\")\n",
        "  newWord = newWord.replace(\"#\", \"\")\n",
        "  return newWord\n",
        "\n",
        "def writeRDFa(txt, res, resNew, wordNER):\n",
        "  if (res == resNew):\n",
        "    res = \"\"\n",
        "    if(wordNER.label_ == \"PER\"):\n",
        "      txt = txt.replace(wordNER.text, '<span vocab=\"http://xmlns.com/foaf/0.1/\" typeof=\"Person\"><span property=\"name\">' + wordNER.text + '</span></span>')\n",
        "    elif(wordNER.label_ == \"LOC\"):\n",
        "      txt = txt.replace(wordNER.text, '<span vocab=\"http://schema.org/\" typeof=\"Place\"><span property=\"name\">' + wordNER.text + '</span></span>')\n",
        "    elif(wordNER.label_ == \"ORG\"):\n",
        "      txt = txt.replace(wordNER.text, '<span vocab=\"http://schema.org/\" typeof=\"SportsOrganization\"><span property=\"name\">' + wordNER.text + '</span></span>')\n",
        "  else:\n",
        "     if(wordNER.label_ == \"PER\"):\n",
        "       txt = txt.replace(wordNER.text, '<span vocab=\"http://xmlns.com/foaf/0.1/\" prefix=\"rdfs: http://www.w3.org/2000/01/rdf-schema\" typeof=\"Person\"><span property=\"name\"><span property=\"rdfs:seeAlso\" = \"' + res + '\"/>' + wordNER.text + '</span></span>')\n",
        "     elif(wordNER.label_ == \"LOC\"):\n",
        "       txt = txt.replace(wordNER.text, '<span vocab=\"http://schema.org/\" prefix=\"rdfs: http://www.w3.org/2000/01/rdf-schema\" typeof=\"Place\"><span property=\"name\"><span property=\"rdfs:seeAlso\" = \"' + res + '\"/>' + wordNER.text + '</span></span>')\n",
        "     elif(wordNER.label_ == \"ORG\"):\n",
        "       txt = txt.replace(wordNER.text, '<span vocab=\"http://schema.org/\" prefix=\"rdfs: http://www.w3.org/2000/01/rdf-schema\" typeof=\"SportsOrganization\"><span property=\"name\"><span property=\"rdfs:seeAlso\" = \"' + res + '\"/>' + wordNER.text + '</span></span>')\n",
        "  return txt\n",
        "\n",
        "nlp = it_core_news_sm.load()\n",
        "sparql = SPARQLWrapper('https://dbpedia.org/sparql')\n",
        "txt = Path('stadio.html').read_text()\n",
        "\n",
        "print(\"##########\")\n",
        "NER_first = nlp(txt)\n",
        "processed = ['A']\n",
        "\n",
        "for wordNER in NER_first.ents:\n",
        "  if wordNER.text not in processed:\n",
        "    if(wordNER.label_ == \"PER\" or wordNER.label_ == \"ORG\" or wordNER.label_ == \"LOC\"):\n",
        "      newWord = cleanUp(wordNER.text)\n",
        "      sparql.setQuery(f'''\n",
        "      SELECT ?object \n",
        "        WHERE {{ dbr:{newWord} foaf:isPrimaryTopicOf ?object.\n",
        "      }}''')\n",
        "      sparql.setReturnFormat(JSON)\n",
        "      qres = sparql.query().convert()\n",
        "      res = \"\"\n",
        "      resNew = res\n",
        "      for result in qres['results']['bindings']:\n",
        "        value = result['object']['value']\n",
        "        res = (result['object']['value'])\n",
        "      txt = writeRDFa(txt, res, resNew, wordNER)\n",
        "  processed.append(wordNER.text)\n",
        "\n",
        "f = open(\"stadioOutput1.html\", \"w\")\n",
        "f.write(txt)\n",
        "f.close()\n",
        "\n",
        "#displacy.render(NER_first,style=\"ent\",jupyter=True)\n",
        "print(\"%%%%%%%%%%\")\n"
      ],
      "metadata": {
        "colab": {
          "base_uri": "https://localhost:8080/"
        },
        "id": "QlZfNM57GqIs",
        "outputId": "df4812ef-6b65-4237-d5b9-ad1e35a96e86"
      },
      "execution_count": 7,
      "outputs": [
        {
          "output_type": "stream",
          "name": "stdout",
          "text": [
            "##########\n",
            "%%%%%%%%%%\n"
          ]
        }
      ]
    }
  ]
}